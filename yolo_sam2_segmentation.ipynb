{
 "cells": [
  {
   "cell_type": "code",
   "execution_count": null,
   "id": "6c7bf8ee",
   "metadata": {},
   "outputs": [],
   "source": [
    "import torch\n",
    "import cv2\n",
    "import numpy as np\n",
    "import os\n",
    "import cv2\n",
    "import scipy\n",
    "from ultralytics import YOLO\n",
    "\n",
    "# 模型與圖片路徑\n",
    "model_path = \"models/yolo_finetuned/best.pt\"\n",
    "\n",
    "# 只保留這些類別 ID（根據 data.yaml 順序）\n",
    "allowed_classes = [2]  # 只要床單\n",
    "\n",
    "# 載入模型\n",
    "model = YOLO(model_path)\n",
    "\n",
    "def extract_mask_compare(image_path):\n",
    "    image_name = os.path.basename(image_path)\n",
    "    # 推論\n",
    "    results = model(image_path)\n",
    "\n",
    "    # 原圖\n",
    "    orig_img = cv2.imread(image_path)\n",
    "    h, w = orig_img.shape[:2]\n",
    "\n",
    "    # 空白遮罩\n",
    "    mask_all = np.zeros((h, w), dtype=np.uint8)\n",
    "    for r in results:\n",
    "        if r.masks is None:\n",
    "            continue\n",
    "        masks = r.masks.data.cpu().numpy()     # [N, H_pred, W_pred]\n",
    "        classes = r.boxes.cls.cpu().numpy()    # [N] 物件的類別 ID\n",
    "        for m, cls_id in zip(masks, classes):\n",
    "            if int(cls_id) not in allowed_classes:\n",
    "                continue  # 跳過不在清單內的類別\n",
    "            m = (m * 255).astype(np.uint8)\n",
    "            m = cv2.resize(m, (w, h), interpolation=cv2.INTER_NEAREST)\n",
    "            mask_all = cv2.bitwise_or(mask_all, m)\n",
    "    masked_image = orig_img.copy()\n",
    "    masked_image[mask_all==0] = 0\n",
    "    cv2.imwrite(\"results-bed-images/\" + image_name, masked_image.astype(np.uint8))\n",
    "\n",
    "img_files = os.listdir(\"bed-images/jpg_out/\")\n",
    "for img_file in img_files:\n",
    "    if img_file.endswith('.jpg'):\n",
    "        image_path = os.path.join(\"bed-images/jpg_out\", img_file)\n",
    "        extract_mask_compare(image_path)\n",
    "        print(f\"Processed {img_file}\")"
   ]
  }
 ],
 "metadata": {
  "kernelspec": {
   "display_name": "pytorch_env",
   "language": "python",
   "name": "python3"
  },
  "language_info": {
   "codemirror_mode": {
    "name": "ipython",
    "version": 3
   },
   "file_extension": ".py",
   "mimetype": "text/x-python",
   "name": "python",
   "nbconvert_exporter": "python",
   "pygments_lexer": "ipython3",
   "version": "3.12.3"
  }
 },
 "nbformat": 4,
 "nbformat_minor": 5
}
